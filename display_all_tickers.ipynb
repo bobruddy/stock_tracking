{
 "cells": [
  {
   "cell_type": "code",
   "execution_count": 3,
   "id": "70a2c211",
   "metadata": {},
   "outputs": [],
   "source": [
    "import pandas as pd\n",
    "from os.path import exists\n",
    "import plotly.graph_objects as go\n",
    "#import plotly\n",
    "import plotly.io as pio\n",
    "import datetime\n",
    "from dateutil.relativedelta import relativedelta\n",
    "\n"
   ]
  },
  {
   "cell_type": "code",
   "execution_count": 4,
   "id": "2e7b4f83",
   "metadata": {},
   "outputs": [],
   "source": [
    "tickers = ['jpm', 'tsla', 'SPY', 'BRK-B', 'INTC', 'SSO', 'ROM']"
   ]
  },
  {
   "cell_type": "code",
   "execution_count": 6,
   "id": "c66940bb",
   "metadata": {},
   "outputs": [],
   "source": [
    "fig = go.Figure()\n",
    "\n",
    "# define 6 month default date range\n",
    "end_dt = datetime.date.today()\n",
    "start_dt = end_dt + relativedelta(months=-6)\n",
    "\n",
    "for sym in tickers:\n",
    "    file_name = 'data/' + sym + '.pkl'\n",
    "    if not exists( file_name ):\n",
    "        continue\n",
    "    \n",
    "    df = pd.read_pickle( file_name )\n",
    "    \n",
    "    fig = go.Figure(go.Ohlc(x=df.index,\n",
    "        open=df['Open'],\n",
    "        high=df['High'],\n",
    "        low=df['Low'],\n",
    "        close=df['Close'],\n",
    "        showlegend=True))\n",
    "    \n",
    "    fig.add_trace(go.Scatter(x=df.index, \n",
    "                         y=df['close_30day'], \n",
    "                         opacity=0.7, \n",
    "                         line=dict(color='blue', width=2), \n",
    "                         name='MA 30'))\n",
    "    fig.add_trace(go.Scatter(x=df.index, \n",
    "                         y=df['close_60day'], \n",
    "                         opacity=0.7, \n",
    "                         line=dict(color='orange', width=2), \n",
    "                         name='MA 60'))\n",
    "    fig.add_trace(go.Scatter(x=df.index, \n",
    "                         y=df['close_90day'], \n",
    "                         opacity=0.7, \n",
    "                         line=dict(color='red', width=2), \n",
    "                         name='MA 90'))\n",
    "    fig.update_layout(title=sym + ' closing')\n",
    "\n",
    "    fig.update_layout(xaxis_range=[start_dt,\n",
    "                        end_dt ])\n",
    "    #fig.update_layout(yaxis_type=\"log\")\n",
    "    \n",
    "    \n",
    "    file_name = 'pages/' + sym + '.html'\n",
    "    pio.write_html(fig, file=file_name, auto_open=False)\n",
    "    #fig.show()\n"
   ]
  },
  {
   "cell_type": "code",
   "execution_count": null,
   "id": "3ebef04a",
   "metadata": {},
   "outputs": [],
   "source": []
  }
 ],
 "metadata": {
  "kernelspec": {
   "display_name": "Python 3 (ipykernel)",
   "language": "python",
   "name": "python3"
  },
  "language_info": {
   "codemirror_mode": {
    "name": "ipython",
    "version": 3
   },
   "file_extension": ".py",
   "mimetype": "text/x-python",
   "name": "python",
   "nbconvert_exporter": "python",
   "pygments_lexer": "ipython3",
   "version": "3.10.6"
  }
 },
 "nbformat": 4,
 "nbformat_minor": 5
}
