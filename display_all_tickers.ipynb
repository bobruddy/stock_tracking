{
 "cells": [
  {
   "cell_type": "code",
   "execution_count": null,
   "id": "70a2c211",
   "metadata": {},
   "outputs": [],
   "source": [
    "import pandas as pd\n",
    "import plotly.graph_objects as go\n",
    "from dateutil.relativedelta import relativedelta\n",
    "from datetime import date\n",
    "import dash\n",
    "from dash import dcc\n",
    "from dash import html\n",
    "import sqlite3"
   ]
  },
  {
   "cell_type": "code",
   "execution_count": null,
   "id": "6ab2d5b8",
   "metadata": {},
   "outputs": [],
   "source": [
    "# make DB connection\n",
    "con = sqlite3.connect('data/stocks.db')\n",
    "\n",
    "# get max dates from stocks.db\n",
    "tickers = []\n",
    "for row in con.execute('select ticker from stocks group by ticker'):\n",
    "    tickers.append(row[0])"
   ]
  },
  {
   "cell_type": "code",
   "execution_count": null,
   "id": "cb02fdaf",
   "metadata": {},
   "outputs": [],
   "source": [
    "# define 6 month default date range\n",
    "end_dt = date.today()\n",
    "start_dt = end_dt + relativedelta(months=-12)\n",
    "graph_start_dt = end_dt + relativedelta(months=-12)\n",
    "\n",
    "# pull data from sqllite3\n",
    "#sql = 'select ticker, date, open, high, low, close from stocks where date >= \"' + str(start_dt) + '\" order by ticker, Date'\n",
    "#stocks = pd.read_sql_query(sql, con=con)"
   ]
  },
  {
   "cell_type": "code",
   "execution_count": null,
   "id": "c66940bb",
   "metadata": {},
   "outputs": [],
   "source": [
    "fig = go.Figure()\n",
    "fig_list = []\n",
    "\n",
    "for sym in tickers:\n",
    "    \n",
    "    # pull data from sqllite3\n",
    "    sql = 'select date, open, high, low, close from stocks where date >= \"' + str(start_dt) + '\" and ticker = \"' + sym + '\" order by date'\n",
    "    df = pd.read_sql_query(sql, con=con)\n",
    "    df['date'] = df['date'].astype( 'datetime64' )\n",
    "    df = df.set_index('date', drop=True)\n",
    "    \n",
    "    # build averages\n",
    "    df['close_30day'] = df['close'].rolling(window=30).mean()\n",
    "    df['close_60day'] = df['close'].rolling(window=60).mean()\n",
    "    df['close_90day'] = df['close'].rolling(window=90).mean()\n",
    "    \n",
    "    # limit data\n",
    "    df = df.loc[graph_start_dt:]\n",
    "    \n",
    "    fig = go.Figure(go.Ohlc(x=df.index,\n",
    "        open=df['open'],\n",
    "        high=df['high'],\n",
    "        low=df['low'],\n",
    "        close=df['close'],\n",
    "        showlegend=True))\n",
    "    \n",
    "    fig.add_trace(go.Scatter(x=df.index, \n",
    "                         y=df['close_30day'], \n",
    "                         opacity=0.7, \n",
    "                         line=dict(color='blue', width=2), \n",
    "                         name='MA 30'))\n",
    "    fig.add_trace(go.Scatter(x=df.index, \n",
    "                         y=df['close_60day'], \n",
    "                         opacity=0.7, \n",
    "                         line=dict(color='orange', width=2), \n",
    "                         name='MA 60'))\n",
    "    fig.add_trace(go.Scatter(x=df.index, \n",
    "                         y=df['close_90day'], \n",
    "                         opacity=0.7, \n",
    "                         line=dict(color='red', width=2), \n",
    "                         name='MA 90'))\n",
    "    fig.update_layout(title=sym + ' closing')\n",
    "\n",
    "    fig.update_layout(xaxis_range=[start_dt,\n",
    "                        end_dt ])\n",
    "    \n",
    "    fig_list.append( html.Div( dcc.Graph(figure=fig) ) )\n",
    "\n"
   ]
  },
  {
   "cell_type": "code",
   "execution_count": null,
   "id": "3ebef04a",
   "metadata": {},
   "outputs": [],
   "source": [
    "app = dash.Dash()\n",
    "app.layout = html.Div( children=fig_list )\n",
    "app.run_server(debug=True, use_reloader=False)  # Turn off reloader if inside Jupyter\n"
   ]
  }
 ],
 "metadata": {
  "kernelspec": {
   "display_name": "Python 3 (ipykernel)",
   "language": "python",
   "name": "python3"
  },
  "language_info": {
   "codemirror_mode": {
    "name": "ipython",
    "version": 3
   },
   "file_extension": ".py",
   "mimetype": "text/x-python",
   "name": "python",
   "nbconvert_exporter": "python",
   "pygments_lexer": "ipython3",
   "version": "3.10.6"
  }
 },
 "nbformat": 4,
 "nbformat_minor": 5
}
