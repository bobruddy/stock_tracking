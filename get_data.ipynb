{
 "cells": [
  {
   "cell_type": "code",
   "execution_count": 1,
   "id": "0b310cfa",
   "metadata": {},
   "outputs": [],
   "source": [
    "import pandas as pd\n",
    "import yfinance as yf\n",
    "from datetime import date\n",
    "from dateutil.relativedelta import relativedelta\n",
    "import sqlite3\n",
    "from os import makedirs"
   ]
  },
  {
   "cell_type": "code",
   "execution_count": 2,
   "id": "6f603731",
   "metadata": {},
   "outputs": [],
   "source": [
    "tickers = ['JPM', 'TSLA', 'SPY', 'BRK-B', 'INTC', 'SSO', 'ROM', 'AAPL', 'GME']"
   ]
  },
  {
   "cell_type": "code",
   "execution_count": 3,
   "id": "1f5d95d1",
   "metadata": {},
   "outputs": [
    {
     "name": "stdout",
     "output_type": "stream",
     "text": [
      "JPM 2022-08-05 to 2022-08-07\n",
      "TSLA 2022-08-05 to 2022-08-07\n",
      "SPY 2022-08-05 to 2022-08-07\n",
      "BRK-B 2022-08-05 to 2022-08-07\n",
      "INTC 2022-08-05 to 2022-08-07\n",
      "SSO 2022-08-05 to 2022-08-07\n",
      "ROM 2022-08-05 to 2022-08-07\n",
      "AAPL 2022-08-05 to 2022-08-07\n",
      "GME 2022-08-05 to 2022-08-07\n"
     ]
    }
   ],
   "source": [
    "# today's date + 1 for the end date\n",
    "end_dt = date.today() + relativedelta(days=+1)\n",
    "\n",
    "# create data folder if doesn't exist\n",
    "makedirs('data', mode = 0o755, exist_ok=True)\n",
    "\n",
    "# setup sql connection\n",
    "#engine = create_engine('sqlite:///data/stocks.db', echo=False)\n",
    "con = sqlite3.connect('data/stocks.db')\n",
    "\n",
    "# create my tables if they don't exist\n",
    "con.execute('create table if not exists stocks ( date text, open float, high float, low float, close float, adj_close float, volume float, ticker text );')\n",
    "con.execute('create index if not exists \"ix_stocks_ticker\" ON stocks (\"ticker\");')\n",
    "con.execute('create index if not exists \"ix_stocks_ticker_sym\" ON stocks (\"ticker\", \"sym\");')\n",
    "\n",
    "# get max dates from stocks.db\n",
    "max_date = {}\n",
    "for row in con.execute('SELECT ticker, max(Date) FROM stocks group by ticker ORDER BY ticker'):\n",
    "    max_date[ row[0] ] = row[1].split()[0]\n",
    "\n",
    "# loop through each ticker\n",
    "for sym in tickers:\n",
    "    \n",
    "    # setting start date based off the max date in the database\n",
    "    # always assuming the last entry in the database is a partial day \n",
    "    # pull so pulling that again. Otherwise set to 2000\n",
    "    if sym not in max_date:\n",
    "        start_dt = '2000-01-01'\n",
    "    else:\n",
    "        start_dt = max_date[ sym ]\n",
    "    print( sym + ' ' + str(start_dt) + ' to ' + str(end_dt) )\n",
    "    \n",
    "    # download the data we need\n",
    "    df = pd.DataFrame()\n",
    "    df = yf.download(sym,\n",
    "              start=start_dt, \n",
    "              end=end_dt, \n",
    "              progress=False)\n",
    "\n",
    "    # add the ticker to the df for prep to send to DB\n",
    "    df['ticker'] = sym\n",
    "\n",
    "    # fix some column names like I like\n",
    "    df = df.reset_index()                             # move Date to regular column\n",
    "    df.columns = df.columns.str.lower()               # lower case column names\n",
    "    df.columns = df.columns.str.replace(' ', '_')     # replace spaces in names with _\n",
    "    \n",
    "    # saving to temp table. then will delete overlapping data from base table\n",
    "    df.to_sql('stocks_upload', con=con, if_exists='replace', index=False ) #, dtype={'date': 'text'} )\n",
    "    \n",
    "    # delete from base table where we have over lapping data\n",
    "    sql = 'delete from stocks where ticker like \"' + sym + '\" and date in (select date from stocks_upload group by date)'\n",
    "    con.execute(sql)\n",
    "    \n",
    "    # add the newly updated data to the base table\n",
    "    con.execute(\"insert into stocks select * from stocks_upload\")\n",
    "    \n",
    "    # save changes\n",
    "    con.commit()\n",
    "\n",
    "# close connection to sqlite\n",
    "con.close()"
   ]
  },
  {
   "cell_type": "code",
   "execution_count": null,
   "id": "09ce804a",
   "metadata": {},
   "outputs": [],
   "source": []
  }
 ],
 "metadata": {
  "kernelspec": {
   "display_name": "Python 3 (ipykernel)",
   "language": "python",
   "name": "python3"
  },
  "language_info": {
   "codemirror_mode": {
    "name": "ipython",
    "version": 3
   },
   "file_extension": ".py",
   "mimetype": "text/x-python",
   "name": "python",
   "nbconvert_exporter": "python",
   "pygments_lexer": "ipython3",
   "version": "3.10.6"
  }
 },
 "nbformat": 4,
 "nbformat_minor": 5
}
