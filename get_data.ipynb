{
 "cells": [
  {
   "cell_type": "code",
   "execution_count": 29,
   "id": "0b310cfa",
   "metadata": {},
   "outputs": [],
   "source": [
    "import pandas as pd\n",
    "import yfinance as yf\n",
    "import pickle\n",
    "import datetime\n",
    "\n",
    "from os.path import exists"
   ]
  },
  {
   "cell_type": "code",
   "execution_count": 30,
   "id": "6f603731",
   "metadata": {},
   "outputs": [],
   "source": [
    "tickers = ['jpm', 'tsla', 'SPY', 'BRK-B', 'INTC', 'SSO', 'ROM']"
   ]
  },
  {
   "cell_type": "code",
   "execution_count": 31,
   "id": "4d671070",
   "metadata": {},
   "outputs": [
    {
     "name": "stdout",
     "output_type": "stream",
     "text": [
      "jpm 2022-08-03 00:00:00 to 2022-08-04\n",
      "tsla 2022-08-03 00:00:00 to 2022-08-04\n",
      "SPY 2022-08-03 00:00:00 to 2022-08-04\n",
      "BRK-B 2022-08-03 00:00:00 to 2022-08-04\n",
      "INTC 2022-08-03 00:00:00 to 2022-08-04\n",
      "SSO 2022-08-03 00:00:00 to 2022-08-04\n",
      "ROM 2022-08-03 00:00:00 to 2022-08-04\n"
     ]
    }
   ],
   "source": [
    "# today's date for the end date\n",
    "end_dt = datetime.date.today()\n",
    "\n",
    "# loop through each ticker\n",
    "for sym in tickers:\n",
    "    \n",
    "    # build file name and read in cache if it exists\n",
    "    file_name = 'data/' + sym + '.pkl'\n",
    "    df_prev = pd.DataFrame()\n",
    "    if exists( file_name ):\n",
    "        df_prev = pd.read_pickle( file_name )\n",
    "        start_dt = df_prev.index.max()\n",
    "    else:\n",
    "        start_dt = '2000-01-01'\n",
    "    print( sym + ' ' + str(start_dt) + ' to ' + str(end_dt) )\n",
    "    \n",
    "    # download the data we need\n",
    "    df = yf.download(sym,\n",
    "              start=start_dt, \n",
    "              end=end_dt, \n",
    "              progress=False)\n",
    "    if len( df_prev ) > 0:        \n",
    "        # merge the dataframes\n",
    "        df_index = df.index\n",
    "        df_prev_index = df_prev.index\n",
    "        mask = ~df_prev_index.isin(df_index)\n",
    "        #result = pd_prev.loc[mask]\n",
    "        df = pd.concat([df_prev.loc[mask],df])\n",
    "    \n",
    "    df['close_30day'] = df['Close'].rolling(window=30).mean()\n",
    "    df['close_60day'] = df['Close'].rolling(window=60).mean()\n",
    "    df['close_90day'] = df['Close'].rolling(window=90).mean()\n",
    "    df.to_pickle( file_name )\n",
    "    "
   ]
  },
  {
   "cell_type": "code",
   "execution_count": null,
   "id": "284dcbeb",
   "metadata": {},
   "outputs": [],
   "source": []
  }
 ],
 "metadata": {
  "kernelspec": {
   "display_name": "Python 3 (ipykernel)",
   "language": "python",
   "name": "python3"
  },
  "language_info": {
   "codemirror_mode": {
    "name": "ipython",
    "version": 3
   },
   "file_extension": ".py",
   "mimetype": "text/x-python",
   "name": "python",
   "nbconvert_exporter": "python",
   "pygments_lexer": "ipython3",
   "version": "3.10.6"
  }
 },
 "nbformat": 4,
 "nbformat_minor": 5
}
