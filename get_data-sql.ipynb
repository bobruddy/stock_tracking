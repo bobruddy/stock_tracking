{
 "cells": [
  {
   "cell_type": "code",
   "execution_count": 47,
   "id": "0b310cfa",
   "metadata": {},
   "outputs": [],
   "source": [
    "import pandas as pd\n",
    "import yfinance as yf\n",
    "import pickle\n",
    "from datetime import date\n",
    "from dateutil.relativedelta import relativedelta\n",
    "from os.path import exists\n",
    "import sqlite3\n",
    "#from sqlalchemy import create_engine"
   ]
  },
  {
   "cell_type": "code",
   "execution_count": 67,
   "id": "6f603731",
   "metadata": {},
   "outputs": [],
   "source": [
    "tickers = ['JPM', 'TSLA', 'SPY', 'BRK-B', 'INTC', 'SSO', 'ROM', 'AAPL']"
   ]
  },
  {
   "cell_type": "code",
   "execution_count": 68,
   "id": "1b71defd",
   "metadata": {},
   "outputs": [
    {
     "name": "stdout",
     "output_type": "stream",
     "text": [
      "JPM 2022-08-04 to 2022-08-06\n",
      "TSLA 2022-08-04 to 2022-08-06\n",
      "SPY 2022-08-04 to 2022-08-06\n",
      "BRK-B 2022-08-04 to 2022-08-06\n",
      "INTC 2022-08-04 to 2022-08-06\n",
      "SSO 2022-08-04 to 2022-08-06\n",
      "ROM 2022-08-04 to 2022-08-06\n",
      "AAPL 2000-01-01 to 2022-08-06\n"
     ]
    }
   ],
   "source": [
    "# today's date + 1 for the end date\n",
    "end_dt = date.today() + relativedelta(days=+1)\n",
    "\n",
    "# setup sql connection\n",
    "#engine = create_engine('sqlite:///data/stocks.db', echo=False)\n",
    "con = sqlite3.connect('data/stocks.db')\n",
    "\n",
    "# get max dates from stocks.db\n",
    "max_date = {}\n",
    "for row in con.execute('SELECT ticker, max(Date) FROM stocks group by ticker ORDER BY ticker'):\n",
    "    max_date[ row[0] ] = row[1].split()[0]\n",
    "\n",
    "# loop through each ticker\n",
    "for sym in tickers:\n",
    "    \n",
    "    # setting start date based off the max date in the database\n",
    "    # always assuming the last entry in the database is a partial day \n",
    "    # pull so pulling that again. Otherwise set to 2000\n",
    "    if sym not in max_date:\n",
    "        start_dt = '2000-01-01'\n",
    "    else:\n",
    "        start_dt = max_date[ sym ]\n",
    "    \n",
    "    print( sym + ' ' + str(start_dt) + ' to ' + str(end_dt) )\n",
    "    \n",
    "    # download the data we need\n",
    "    df = yf.download(sym,\n",
    "              start=start_dt, \n",
    "              end=end_dt, \n",
    "              progress=False)\n",
    "    if len( df_prev ) > 0:        \n",
    "        # merge the dataframes\n",
    "        df_index = df.index\n",
    "        df_prev_index = df_prev.index\n",
    "        mask = ~df_prev_index.isin(df_index)\n",
    "        #result = pd_prev.loc[mask]\n",
    "        df = pd.concat([df_prev.loc[mask],df])\n",
    "\n",
    "    # add the ticker to the df for prep to send to DB\n",
    "    df['ticker'] = sym\n",
    "\n",
    "    # saving to temp table. then will delete overlapping data from base table\n",
    "    df.to_sql('stocks_upload', con=con, if_exists='replace')\n",
    "    \n",
    "    # delete from base table where we have over lapping data\n",
    "    sql = 'delete from stocks where ticker like \"' + sym + '\" and Date in (select Date from stocks_upload group by Date)'\n",
    "    con.execute(sql)\n",
    "    \n",
    "    # add the newly updated data to the base table\n",
    "    con.execute(\"insert into stocks select * from stocks_upload\")\n",
    "    \n",
    "    # save changes\n",
    "    con.commit()\n",
    "\n",
    "# close connection to sqlite\n",
    "con.close()"
   ]
  },
  {
   "cell_type": "code",
   "execution_count": null,
   "id": "563e8d64",
   "metadata": {},
   "outputs": [],
   "source": []
  }
 ],
 "metadata": {
  "kernelspec": {
   "display_name": "Python 3 (ipykernel)",
   "language": "python",
   "name": "python3"
  },
  "language_info": {
   "codemirror_mode": {
    "name": "ipython",
    "version": 3
   },
   "file_extension": ".py",
   "mimetype": "text/x-python",
   "name": "python",
   "nbconvert_exporter": "python",
   "pygments_lexer": "ipython3",
   "version": "3.10.6"
  }
 },
 "nbformat": 4,
 "nbformat_minor": 5
}
